{
 "cells": [
  {
   "cell_type": "markdown",
   "id": "bb58ec55-bfd0-46b1-b325-84705196708f",
   "metadata": {},
   "source": [
    "# Homework 1\n",
    "My name is Gustav, I'm a 26 year old man who likes to hang out with my friends and watch movies.\n",
    "My previous experience in data science comes from the other courses I have studyied here on su where we mainly observed and analyzed data by plotting and creating linear models. "
   ]
  }
 ],
 "metadata": {
  "kernelspec": {
   "display_name": "Python 3 (ipykernel)",
   "language": "python",
   "name": "python3"
  },
  "language_info": {
   "codemirror_mode": {
    "name": "ipython",
    "version": 3
   },
   "file_extension": ".py",
   "mimetype": "text/x-python",
   "name": "python",
   "nbconvert_exporter": "python",
   "pygments_lexer": "ipython3",
   "version": "3.12.7"
  }
 },
 "nbformat": 4,
 "nbformat_minor": 5
}
