{
 "cells": [
  {
   "cell_type": "code",
   "execution_count": 2,
   "id": "fe858fc9-b819-4e42-a28b-9cf52aba9141",
   "metadata": {},
   "outputs": [
    {
     "ename": "SyntaxError",
     "evalue": "invalid syntax (3941790156.py, line 1)",
     "output_type": "error",
     "traceback": [
      "\u001b[1;36m  Cell \u001b[1;32mIn[2], line 1\u001b[1;36m\u001b[0m\n\u001b[1;33m    pip install pandas\u001b[0m\n\u001b[1;37m        ^\u001b[0m\n\u001b[1;31mSyntaxError\u001b[0m\u001b[1;31m:\u001b[0m invalid syntax\n"
     ]
    }
   ],
   "source": [
    "pip install pandas\n",
    "pip install numpy\n",
    "pip install matplotlib\n",
    "pip install seaborn\n",
    "import pandas as pd\n",
    "import numpy as np\n",
    "import matplotlib.pyplot as plt\n",
    "import seaborn as sns"
   ]
  },
  {
   "cell_type": "markdown",
   "id": "12fb109e-5072-4085-a571-4fff697b891c",
   "metadata": {},
   "source": [
    "Exploratory Data Analysis"
   ]
  },
  {
   "cell_type": "code",
   "execution_count": null,
   "id": "9a1e533a-c3af-4f9e-8b2d-4bb820d2ca16",
   "metadata": {},
   "outputs": [],
   "source": [
    "# opening and displaying the csv file which contains data of the properties of flowers with three different species\n",
    "local_file_path = \".data/blob/main/IRIS.csv\"\n",
    "url = \"https://raw.githubusercontent.com/su-mt4007/data/refs/heads/main/IRIS.csv\"\n",
    "df = pd.read_csv(url)\n",
    "df.info()"
   ]
  },
  {
   "cell_type": "code",
   "execution_count": null,
   "id": "55a5f80a-03d9-484f-9ef8-76102cef80c2",
   "metadata": {},
   "outputs": [],
   "source": [
    "df.describe()"
   ]
  },
  {
   "cell_type": "code",
   "execution_count": null,
   "id": "f6e097d8-d33e-4c0a-96d0-34e41673071b",
   "metadata": {},
   "outputs": [],
   "source": [
    "# plotting the correlation of sepal and petal length of the three different species and the correlation of sepal and petal width of the three different species as two subplots\n",
    "sns.set(style=\"darkgrid\")\n",
    "plt.figure(figsize=(12, 10))\n",
    "plt.subplot(2, 2, 1)\n",
    "sns.scatterplot(x='sepal_length', y='petal_length', hue = 'species', data=df)\n",
    "plt.title('sepal length vs. petal length')\n",
    "plt.subplot(2, 2, 2)\n",
    "sns.scatterplot(x='sepal_width', y='petal_width', hue='species', data=df)\n",
    "plt.title('sepal width vs. petal width')\n",
    "plt.show()\n",
    "plt.tight_layout()"
   ]
  },
  {
   "cell_type": "markdown",
   "id": "833572e0-1dc8-458c-95a0-cecd06d313b7",
   "metadata": {},
   "source": [
    "The scatterplot of petal length vs sepal length indicates that we have a correlation or relationship (if you will) between the two by the looks of it.\n",
    "However the scatterplot of petal width vs sepal width indicates that there is no relationship of the two."
   ]
  },
  {
   "cell_type": "code",
   "execution_count": null,
   "id": "eefccb01-aa5d-4401-afec-a6e03c1f6208",
   "metadata": {},
   "outputs": [],
   "source": [
    "# Create a 2x2 grid of subplots\n",
    "plt.figure(figsize=(12, 10))\n",
    "\n",
    "# Box plot for Sepal Width for the 3 species\n",
    "plt.subplot(2, 2, 1)\n",
    "sns.boxplot(x='species', y='sepal_width', hue = 'species', data=df)\n",
    "plt.title('Sepal Width by Species')\n",
    "\n",
    "# Box plot for Sepal Length for the 3 species\n",
    "plt.subplot(2, 2, 2)\n",
    "sns.boxplot(x='species', y='sepal_length', hue = 'species', data=df)\n",
    "plt.title('Sepal Length by Species')\n",
    "\n",
    "# Box plot for Petal Width for the 3 species\n",
    "plt.subplot(2, 2, 3)\n",
    "sns.boxplot(x='species', y='petal_width', hue = 'species', data=df)\n",
    "plt.title('Petal Width by Species')\n",
    "\n",
    "# Box plot for Petal Length for the 3 species\n",
    "plt.subplot(2, 2, 4)\n",
    "sns.boxplot(x='species', y='petal_length', hue = 'species', data=df)\n",
    "plt.title('Petal Length by Species')\n",
    "\n",
    "# Adjust the layout to prevent overlap\n",
    "plt.tight_layout()\n",
    "plt.show()\n",
    "\n"
   ]
  },
  {
   "cell_type": "markdown",
   "id": "7ea87fed-1ae9-44fa-81bd-05c106571d10",
   "metadata": {},
   "source": [
    "The boxplots are illustrating the median value and variance spread of sepal width, sepal length, petal width and petal length of the three species of flowers.\n",
    "\n",
    "The first boxplot (Sepal width vs species) is telling us that Setosa has the largest spread and the widest sepals on average, Virginica has smaller sepals than Setosa considering it has smaller median and variance. Versicolor has the smallest median sepal width with relatively large variability indicating that Versicolor has the smallest sepal.\n",
    "\n",
    "The second boxplot (Sepal length vs species) is telling us that Virginica has the largest sepal length, Versicolor being second and Setosa has the smallest sepal length.\n",
    "\n",
    "The third boxplot (Petal width vs species) is telling us that Virginica has the widest and most variable petals, Setosa has small and consistent petals and Versicolor is in between the two.\n",
    "\n",
    "The forth boxplot (Petal length vs species) is telling us that Virginica has the longest petals and most variable, Versicolor has shorter petals with less variability and Setosa has the shortest and most consistent petals.\n",
    "\n",
    "Overall the boxplots are giving describtions of the three species of flowers, improving our ability to visualize how they look."
   ]
  },
  {
   "cell_type": "code",
   "execution_count": null,
   "id": "805a425b-5f64-4c63-b50b-ba860f09d4ef",
   "metadata": {},
   "outputs": [],
   "source": [
    "# Pair plot of the dataset\n",
    "sns.pairplot(df, hue='species', markers=[\"o\", \"s\", \"D\"])\n",
    "plt.suptitle('Pair Plot of Iris Dataset', y=1.02)\n",
    "plt.show()"
   ]
  },
  {
   "cell_type": "markdown",
   "id": "046c9675-fe10-42a4-ba33-e2b09ee85c89",
   "metadata": {},
   "source": [
    "We can from the pairs plot draw the conclusion that petal length and petal width show a clear, positive linear relationship. While we can also see how different species cluster based on their measurements. Setosa is the easiest to separate from the others due to its smaller petals and variance.\n",
    "\n",
    "We can also see how some variables have little, close to zero correlation, such as sepal width vs petal length. "
   ]
  },
  {
   "cell_type": "markdown",
   "id": "1838d175-d2cd-458b-8461-344e03faff4a",
   "metadata": {
    "scrolled": true
   },
   "source": [
    "Birdwatching"
   ]
  },
  {
   "cell_type": "code",
   "execution_count": null,
   "id": "9e1f103e-cff5-4b3b-8dd7-940e129328a6",
   "metadata": {
    "scrolled": true
   },
   "outputs": [],
   "source": [
    "# opening and displaying the csv file which contains data of bird sightings\n",
    "local_file_path = \".data/blob/main/artportalen.csv\"\n",
    "url = \"https://raw.githubusercontent.com/su-mt4007/data/refs/heads/main/artportalen.csv\"\n",
    "df = pd.read_csv(url)\n",
    "print(df.head())"
   ]
  },
  {
   "cell_type": "code",
   "execution_count": null,
   "id": "3742d1b2-536d-4b4e-b633-67876d61444e",
   "metadata": {},
   "outputs": [],
   "source": [
    "# Convert \"Antal\" column to numeric, handling non-numeric values\n",
    "df['Antal'] = pd.to_numeric(df['Antal'], errors='coerce')\n",
    "\n",
    "# Group by species and sum the observations\n",
    "species_count = df.groupby('Artnamn')['Antal'].sum().sort_values(ascending=False)\n",
    "\n",
    "# Display the top species\n",
    "species_count.head()\n"
   ]
  },
  {
   "cell_type": "markdown",
   "id": "af0e5c61-06c2-488c-9f90-1a4c41c570a7",
   "metadata": {},
   "source": [
    "This displays the most observed species during bird sightings and answers the first question of the questions for birdsighting."
   ]
  },
  {
   "cell_type": "code",
   "execution_count": null,
   "id": "0cd890af-e39a-493f-a08e-9800105157d8",
   "metadata": {},
   "outputs": [],
   "source": [
    "# data for top three prevelant species\n",
    "# Convert the date column to datetime\n",
    "df['Startdatum'] = pd.to_datetime(df['Startdatum'])  # Replace 'date' with the  nactual columname\n",
    "# Extract the month\n",
    "df['month'] = df['Startdatum'].dt.month\n",
    "# Count occurrences of each species\n",
    "species_count = df.groupby('Artnamn')['Antal'].sum().sort_values(ascending=False)\n",
    "# Identify the top 3 most prevalent species\n",
    "top_species = species_count.head(3).index\n",
    "\n",
    "# Filter data for the top 3 species\n",
    "filtered_data = df[df['Artnamn'].isin(top_species)]\n",
    "# Group by month and species\n",
    "monthly_distribution = filtered_data.groupby(['month', 'Artnamn']).size().reset_index(name='count')\n",
    "\n",
    "# Plot the monthly distribution\n",
    "plt.figure(figsize=(12, 6))\n",
    "sns.lineplot(data=monthly_distribution, x='month', y='count', hue='Artnamn', marker='o')\n",
    "\n",
    "# Add labels and title\n",
    "plt.title('Monthly Distribution of the Top 3 Most Prevalent Species')\n",
    "plt.xlabel('Month')\n",
    "plt.ylabel('Count')\n",
    "plt.xticks(ticks=range(1, 13), labels=['Jan', 'Feb', 'Mar', 'Apr', 'May', 'Jun', \n",
    "                                       'Jul', 'Aug', 'Sep', 'Oct', 'Nov', 'Dec'])\n",
    "plt.legend(title='Species')\n",
    "plt.grid(True)\n",
    "plt.show()"
   ]
  },
  {
   "cell_type": "markdown",
   "id": "860fb616-b174-42d1-b1e6-ac98ca13ebb6",
   "metadata": {},
   "source": [
    "The monthly distribution of the top three most prevelant species is found by examining the monthly distribution of Grönsiska, Sothöna and Gräsand. This is done by going through the data and counting all sightings of one species that occured in the same month, this data is found in the column Startdatum. By plotting the counts of the most prevelant species sightings in each month we get the distribution shown in a graph, which is displayed in the figure above."
   ]
  },
  {
   "cell_type": "code",
   "execution_count": null,
   "id": "e9543a70-7f61-4b70-b271-505a40bb6422",
   "metadata": {},
   "outputs": [],
   "source": [
    "# Displaying the least prevenant species in ascending order\n",
    "species_count = df.groupby('Artnamn')['Antal'].sum().sort_values(ascending=True)\n",
    "print(species_count)"
   ]
  },
  {
   "cell_type": "markdown",
   "id": "968911ff-4d8b-4dfc-ae07-15965e3f2478",
   "metadata": {},
   "source": [
    "The most rare species is the same as the least prevenant ones, and since we already found a way to count all the sightings we can use our \"species_count\" in an ascending order in order to display the rarest species which is displayed above. "
   ]
  },
  {
   "cell_type": "markdown",
   "id": "d03562df-f70b-408c-b735-bd9a9440020d",
   "metadata": {},
   "source": [
    "1: What is the geographical distribution of the observations for the 10 most common species?\n"
   ]
  },
  {
   "cell_type": "code",
   "execution_count": null,
   "id": "50dcefe0-2e0b-49ae-b777-60080df6dc5c",
   "metadata": {},
   "outputs": [],
   "source": [
    "plt.figure(figsize=(10, 6))\n",
    "top10_species = df['Artnamn'].value_counts().head(10).index\n",
    "filtered_newdata = df[df['Artnamn'].isin(top10_species)]\n",
    "\n",
    "sns.scatterplot(data=filtered_newdata, x=df['Ostkoordinat'], y=df['Nordkoordinat'], hue='Artnamn', alpha=0.5)\n",
    "\n",
    "plt.title('Geographical Distribution of Observations')\n",
    "plt.xlabel('Longitude')\n",
    "plt.ylabel('Latitude')\n",
    "plt.legend(title='Species')\n",
    "plt.show()"
   ]
  },
  {
   "cell_type": "markdown",
   "id": "9e2453bf-a5b7-4b4a-a17b-aca0cd7886a9",
   "metadata": {},
   "source": [
    "2: Which observers have done most sightings of the 10 most common species?"
   ]
  },
  {
   "cell_type": "code",
   "execution_count": null,
   "id": "0d38012e-4f38-4e9b-8dbb-021486ead550",
   "metadata": {},
   "outputs": [],
   "source": [
    "top10_species = df['Artnamn'].value_counts().head(10).index\n",
    "filtered_newdata = df[df['Artnamn'].isin(top10_species)]\n",
    "\n",
    "# Group by observer and species, and count the sightings\n",
    "observer_species_counts = filtered_newdata.groupby(['Observatörer', 'Artnamn']).size().reset_index(name='count')\n",
    "\n",
    "# Get the total sightings per observer (sum of sightings across all species)\n",
    "observer_totals = observer_species_counts.groupby('Observatörer')['count'].sum().reset_index()\n",
    "\n",
    "# Identify the top 5 observers by total sightings\n",
    "top_observers = observer_totals.sort_values(by='count', ascending=False).head(5)['Observatörer']\n",
    "\n",
    "# Filter the original dataset to only include the top 5 observers\n",
    "filtered_observers_data = observer_species_counts[observer_species_counts['Observatörer'].isin(top_observers)]\n",
    "\n",
    "# Plot the results for the top 5 observers\n",
    "plt.figure(figsize=(14, 8))\n",
    "sns.barplot(data=filtered_observers_data, x='Artnamn', y='count', hue='Observatörer', dodge=True)\n",
    "\n",
    "# Add labels and title\n",
    "plt.title('Number of Sightings by Top 5 Observers for the 10 Most Common Species')\n",
    "plt.xlabel('Species')\n",
    "plt.ylabel('Number of Sightings')\n",
    "plt.xticks(rotation=45)\n",
    "plt.legend(title='Observer', bbox_to_anchor=(1.05, 1), loc='upper left')\n",
    "plt.tight_layout()\n",
    "plt.show()"
   ]
  },
  {
   "cell_type": "markdown",
   "id": "fd5fa266-fc91-45d7-b4d4-b82c36fff9c9",
   "metadata": {},
   "source": [
    "3:  Are there any species that are observed together frequently?"
   ]
  },
  {
   "cell_type": "code",
   "execution_count": null,
   "id": "22c48e2c-26a7-4ae6-893a-1520801d6692",
   "metadata": {},
   "outputs": [],
   "source": [
    "# Group observations by same county and time\n",
    "event_groups = df.groupby(['Län', 'Startdatum'])['Artnamn'].apply(list).reset_index(name='species_list')\n",
    "\n",
    "# import packages\n",
    "from collections import Counter\n",
    "from itertools import combinations\n",
    "\n",
    "co_occurrence_counts = Counter()\n",
    "for species_list in event_groups['species_list']:\n",
    "    for pair in combinations(sorted(species_list), 2):\n",
    "        co_occurrence_counts[pair] += 1\n",
    "\n",
    "# Convert to DataFrame\n",
    "co_occurrence_df = pd.DataFrame(co_occurrence_counts.items(), columns=['species_pair', 'count']).sort_values(by='count', ascending=False)\n",
    "\n",
    "# Display top co-occurring pairs\n",
    "print(co_occurrence_df.head(10))\n"
   ]
  },
  {
   "cell_type": "code",
   "execution_count": null,
   "id": "6226383b-4caf-48ae-a834-167ec208d290",
   "metadata": {},
   "outputs": [],
   "source": [
    "Predicting Strokes"
   ]
  },
  {
   "cell_type": "code",
   "execution_count": null,
   "id": "4d457849-25a5-4d2f-971f-2bc66eef8ceb",
   "metadata": {},
   "outputs": [],
   "source": [
    "# opening and displaying the csv file which contains data about strokes and realative variables\n",
    "local_file_path = \".data/blob/main/stroke-data.csv\"\n",
    "url = \"https://raw.githubusercontent.com/su-mt4007/data/refs/heads/main/stroke-data.csv\"\n",
    "df = pd.read_csv(url)\n",
    "print(df)\n",
    "df.describe()\n"
   ]
  },
  {
   "cell_type": "markdown",
   "id": "9b92dcfa-0ed0-4c84-aa9f-0ef4d2a73fcf",
   "metadata": {},
   "source": [
    "The dataset seem to contain data of completely different individuals with different variables. The data contains information about gender, age, hypertension, heart disease, if the person has ever been married, type of work and residence, level of glucose, bmi, smoking status and if the person has had a stroke or not. With all this information we could try to find which variables that has most correlation with probability of getting a stroke. An intresting way to analyze the data would be to examine what variables are related to one another and the first question could be to create a pairsplot that demonstrates this. The second question could be if smoking increases the chances of getting a stroke. And the third question, what variable seems to be most correlated with chance of getting a stroke."
   ]
  },
  {
   "cell_type": "markdown",
   "id": "62212cd8-ea93-4168-9fe5-ad23438a8578",
   "metadata": {},
   "source": [
    "1: Creating a pairs plot of the variables and finding relationships between them "
   ]
  },
  {
   "cell_type": "code",
   "execution_count": null,
   "id": "084ef82b-4550-4dcc-a4ed-153f6715093f",
   "metadata": {},
   "outputs": [],
   "source": [
    "# remove unintresting columns of the data and creatte pair plot of the dataset\n",
    "relevant_data = df[[\"gender\",\"age\",\"hypertension\",\"heart_disease\",\"ever_married\",\"work_type\",\"Residence_type\", \"avg_glucose_level\", \"bmi\",\"smoking_status\" , \"stroke\"]]\n",
    "\n",
    "sns.pairplot(relevant_data)\n",
    "plt.suptitle('Pair Plot of Predicting Strokes', y=1.02)\n",
    "plt.show()"
   ]
  },
  {
   "cell_type": "markdown",
   "id": "289100bf-0c42-4c33-9034-3f89df757195",
   "metadata": {},
   "source": [
    "We see that for a lot of variables the pairs plot is not giving us any intresting information, this is partailly due to the difference in binary and continous values for the variables. However we can see that the only variables who seem to have a clear relationship to one another is age and average glucose levels. "
   ]
  },
  {
   "cell_type": "markdown",
   "id": "ec3c323b-8f79-4588-bcfc-aad1b5a2c90d",
   "metadata": {},
   "source": [
    "2. How does smoking status affect number of strokes?"
   ]
  },
  {
   "cell_type": "code",
   "execution_count": null,
   "id": "41b00e29-c930-4c84-85a7-fc132c927510",
   "metadata": {},
   "outputs": [],
   "source": [
    "# Sorting the data into groups of male and female data and plotting the number of strokes for each group\n",
    "formerly_smoked_data = df[df[\"smoking_status\"]==\"formerly smoked\"]\n",
    "never_smoked_data = df[df[\"smoking_status\"]==\"never smoked\"]\n",
    "smokes_data = df[df[\"smoking_status\"]==\"smokes\"]\n",
    "strokes_formerly_smoked = formerly_smoked_data[\"stroke\"].sum()\n",
    "strokes_never_smoked=never_smoked_data[\"stroke\"].sum()\n",
    "strokes_smokes=smokes_data[\"stroke\"].sum()\n",
    "xdata = [\"never smoked\",\"formerly smoked\",\"smokes\"]\n",
    "ydata = [strokes_never_smoked, strokes_formerly_smoked, strokes_smokes ]\n",
    "plt.bar(xdata, ydata, color ='blue', \n",
    "        width = 0.4)"
   ]
  },
  {
   "cell_type": "markdown",
   "id": "be1acb04-9632-43af-85fa-500786991f8b",
   "metadata": {},
   "source": [
    "We see from this barplot that the individuals from the data who never smokes have the most number of strokes. This could indicate smoking could lower the chance of getting a stroke but that seems far from the reality since studies show that smoking could raise the risk of getting a stroke. The explanation for this outcome is probably that the data mostly consists of people who never smoked or that a lot of individuals from this dataset who never smoked has heart diseases or are old or some other variable that could increase the risk of getting a stroke "
   ]
  },
  {
   "cell_type": "markdown",
   "id": "21513f1f-5e6b-44b4-a37a-bb49c22def56",
   "metadata": {},
   "source": [
    "3. And the third question, what variable seems to be most correlated with chance of getting a stroke."
   ]
  },
  {
   "cell_type": "code",
   "execution_count": 1,
   "id": "a64daa49-b57b-4966-ad60-b6556c035576",
   "metadata": {},
   "outputs": [
    {
     "ename": "NameError",
     "evalue": "name 'df' is not defined",
     "output_type": "error",
     "traceback": [
      "\u001b[1;31m---------------------------------------------------------------------------\u001b[0m",
      "\u001b[1;31mNameError\u001b[0m                                 Traceback (most recent call last)",
      "Cell \u001b[1;32mIn[1], line 1\u001b[0m\n\u001b[1;32m----> 1\u001b[0m relevant_data \u001b[38;5;241m=\u001b[39m \u001b[43mdf\u001b[49m[[\u001b[38;5;124m\"\u001b[39m\u001b[38;5;124mgender\u001b[39m\u001b[38;5;124m\"\u001b[39m,\u001b[38;5;124m\"\u001b[39m\u001b[38;5;124mage\u001b[39m\u001b[38;5;124m\"\u001b[39m,\u001b[38;5;124m\"\u001b[39m\u001b[38;5;124mhypertension\u001b[39m\u001b[38;5;124m\"\u001b[39m,\u001b[38;5;124m\"\u001b[39m\u001b[38;5;124mheart_disease\u001b[39m\u001b[38;5;124m\"\u001b[39m,\u001b[38;5;124m\"\u001b[39m\u001b[38;5;124mever_married\u001b[39m\u001b[38;5;124m\"\u001b[39m,\u001b[38;5;124m\"\u001b[39m\u001b[38;5;124mwork_type\u001b[39m\u001b[38;5;124m\"\u001b[39m,\u001b[38;5;124m\"\u001b[39m\u001b[38;5;124mResidence_type\u001b[39m\u001b[38;5;124m\"\u001b[39m, \u001b[38;5;124m\"\u001b[39m\u001b[38;5;124mavg_glucose_level\u001b[39m\u001b[38;5;124m\"\u001b[39m, \u001b[38;5;124m\"\u001b[39m\u001b[38;5;124mbmi\u001b[39m\u001b[38;5;124m\"\u001b[39m,\u001b[38;5;124m\"\u001b[39m\u001b[38;5;124msmoking_status\u001b[39m\u001b[38;5;124m\"\u001b[39m , \u001b[38;5;124m\"\u001b[39m\u001b[38;5;124mstroke\u001b[39m\u001b[38;5;124m\"\u001b[39m]]\n\u001b[0;32m      2\u001b[0m relevant_data\u001b[38;5;241m.\u001b[39mloc[relevant_data[\u001b[38;5;124m'\u001b[39m\u001b[38;5;124mgender\u001b[39m\u001b[38;5;124m'\u001b[39m] \u001b[38;5;241m==\u001b[39m \u001b[38;5;124m'\u001b[39m\u001b[38;5;124mMale\u001b[39m\u001b[38;5;124m'\u001b[39m, \u001b[38;5;124m'\u001b[39m\u001b[38;5;124mgender\u001b[39m\u001b[38;5;124m'\u001b[39m] \u001b[38;5;241m=\u001b[39m \u001b[38;5;241m0\u001b[39m\n\u001b[0;32m      3\u001b[0m relevant_data\u001b[38;5;241m.\u001b[39mloc[relevant_data[\u001b[38;5;124m'\u001b[39m\u001b[38;5;124mgender\u001b[39m\u001b[38;5;124m'\u001b[39m] \u001b[38;5;241m==\u001b[39m \u001b[38;5;124m'\u001b[39m\u001b[38;5;124mFemale\u001b[39m\u001b[38;5;124m'\u001b[39m, \u001b[38;5;124m'\u001b[39m\u001b[38;5;124mgender\u001b[39m\u001b[38;5;124m'\u001b[39m] \u001b[38;5;241m=\u001b[39m \u001b[38;5;241m1\u001b[39m\n",
      "\u001b[1;31mNameError\u001b[0m: name 'df' is not defined"
     ]
    }
   ],
   "source": [
    "relevant_data = df[[\"gender\",\"age\",\"hypertension\",\"heart_disease\",\"ever_married\",\"work_type\",\"Residence_type\", \"avg_glucose_level\", \"bmi\",\"smoking_status\" , \"stroke\"]]\n",
    "relevant_data.loc[relevant_data['gender'] == 'Male', 'gender'] = 0\n",
    "relevant_data.loc[relevant_data['gender'] == 'Female', 'gender'] = 1\n",
    "relevant_data.loc[relevant_data['smoking_status'] == 'never_smoked', 'smoking_status'] = 0\n",
    "relevant_data.loc[relevant_data['smoking_status'] == 'formerly_smoked', 'smoking_status'] = 1\n",
    "relevant_data.loc[relevant_data['smoking_status'] == 'smokes', 'smoking_status'] = 2\n",
    "relevant_data.loc[relevant_data['ever_married'] == 'Yes', 'ever_married'] = 1\n",
    "relevant_data.loc[relevant_data['ever_married'] == 'No', 'ever_married'] = 0\n",
    "relevant_data.loc[relevant_data['work_type'] == 'Self-employed', 'work_type'] = 0\n",
    "relevant_data.loc[relevant_data['work_type'] == 'Private', 'work_type'] = 1\n",
    "relevant_data.loc[relevant_data['work_type'] == 'Govt_job', 'work_type'] = 2\n",
    "relevant_data.loc[relevant_data['Residence_type'] == 'Rural', 'Residence_type'] = 0\n",
    "relevant_data.loc[relevant_data['Residence_type'] == 'Urban', 'Residence_type'] = 1\n",
    "\n",
    "numeric_columns = relevant_data.select_dtypes(include=['number']).columns\n",
    "correlation_matrix = relevant_data[numeric_columns].corr()\n",
    "\n",
    "#Find the correlation between 'stroke' and all other variables\n",
    "stroke_corr = correlation_matrix['stroke'].sort_values(ascending=False)\n",
    "\n",
    "# Visualize the top correlations with 'stroke'\n",
    "plt.figure(figsize=(8, 6))\n",
    "sns.barplot(x=stroke_corr.index, y=stroke_corr.values)\n",
    "plt.title('Correlation of Variables with Stroke')\n",
    "plt.xlabel('Variables')\n",
    "plt.ylabel('Correlation Coefficient')\n",
    "plt.xticks(rotation=45)\n",
    "plt.tight_layout()\n",
    "plt.show()"
   ]
  },
  {
   "cell_type": "markdown",
   "id": "bf9e1bb7-4b1a-48a2-8efa-3cb00e57bb9e",
   "metadata": {},
   "source": [
    "We can see that age is the variable that has the largest correlation with the risk of a stroke, followed by heart disease, glucose level and hypertension. We also see that gender has close to nothing to do with the risk of getting a stroke."
   ]
  },
  {
   "cell_type": "markdown",
   "id": "7ef01e36-6378-4224-9de1-59c648735594",
   "metadata": {},
   "source": [
    "Data preparation"
   ]
  },
  {
   "cell_type": "code",
   "execution_count": 4,
   "id": "63e8e063-4864-452e-9980-f382dbe70d81",
   "metadata": {},
   "outputs": [
    {
     "ename": "NameError",
     "evalue": "name 'pd' is not defined",
     "output_type": "error",
     "traceback": [
      "\u001b[1;31m---------------------------------------------------------------------------\u001b[0m",
      "\u001b[1;31mNameError\u001b[0m                                 Traceback (most recent call last)",
      "Cell \u001b[1;32mIn[4], line 4\u001b[0m\n\u001b[0;32m      2\u001b[0m local_file_path \u001b[38;5;241m=\u001b[39m \u001b[38;5;124m\"\u001b[39m\u001b[38;5;124m.data/blob/main/cell_phones_total.csv\u001b[39m\u001b[38;5;124m\"\u001b[39m\n\u001b[0;32m      3\u001b[0m url \u001b[38;5;241m=\u001b[39m \u001b[38;5;124m\"\u001b[39m\u001b[38;5;124mhttps://raw.githubusercontent.com/su-mt4007/data/refs/heads/main/cell_phones_total.csv\u001b[39m\u001b[38;5;124m\"\u001b[39m\n\u001b[1;32m----> 4\u001b[0m df \u001b[38;5;241m=\u001b[39m \u001b[43mpd\u001b[49m\u001b[38;5;241m.\u001b[39mread_csv(url)\n",
      "\u001b[1;31mNameError\u001b[0m: name 'pd' is not defined"
     ]
    }
   ],
   "source": [
    "# opening and displaying the csv file which contains data about strokes and realative variables\n",
    "local_file_path = \".data/blob/main/cell_phones_total.csv\"\n",
    "url = \"https://raw.githubusercontent.com/su-mt4007/data/refs/heads/main/cell_phones_total.csv\"\n",
    "df = pd.read_csv(url)"
   ]
  },
  {
   "cell_type": "code",
   "execution_count": 3,
   "id": "e21920fd-276b-43ac-ac66-6b4732f4c8da",
   "metadata": {},
   "outputs": [
    {
     "ename": "NameError",
     "evalue": "name 'df' is not defined",
     "output_type": "error",
     "traceback": [
      "\u001b[1;31m---------------------------------------------------------------------------\u001b[0m",
      "\u001b[1;31mNameError\u001b[0m                                 Traceback (most recent call last)",
      "Cell \u001b[1;32mIn[3], line 2\u001b[0m\n\u001b[0;32m      1\u001b[0m \u001b[38;5;66;03m# Remove columns with missing values\u001b[39;00m\n\u001b[1;32m----> 2\u001b[0m df_cleaned \u001b[38;5;241m=\u001b[39m \u001b[43mdf\u001b[49m\u001b[38;5;241m.\u001b[39mdropna(axis\u001b[38;5;241m=\u001b[39m\u001b[38;5;241m1\u001b[39m, how\u001b[38;5;241m=\u001b[39m\u001b[38;5;124m'\u001b[39m\u001b[38;5;124mall\u001b[39m\u001b[38;5;124m'\u001b[39m)\n\u001b[0;32m      3\u001b[0m df_cleaned \u001b[38;5;241m=\u001b[39m df_cleaned\u001b[38;5;241m.\u001b[39minfer_objects()\n\u001b[0;32m      4\u001b[0m \u001b[38;5;66;03m# Creating a function to convert strings with 'k' or 'M' to numeric values ( k = 1000, M = 1 000 000)\u001b[39;00m\n",
      "\u001b[1;31mNameError\u001b[0m: name 'df' is not defined"
     ]
    }
   ],
   "source": [
    "# Remove columns with missing values\n",
    "df_cleaned = df.dropna(axis=1, how='all')\n",
    "df_cleaned = df_cleaned.infer_objects()\n",
    "# Creating a function to convert strings with 'k' or 'M' to numeric values ( k = 1000, M = 1 000 000)\n",
    "def replace_strings(value):\n",
    "    if isinstance(value, str):\n",
    "        if 'k' in value:\n",
    "            return float(value.replace('k', '')) * 1e3\n",
    "        elif 'M' in value:\n",
    "            return float(value.replace('M', '')) * 1e6\n",
    "    return value\n",
    "\n",
    "# Looping through the columns and applying the function we created\n",
    "for col in df_cleaned.columns[1:]:\n",
    "    df_cleaned.loc[:, col] = df_cleaned[col].apply(replace_strings)\n",
    "# Ensure all columns are numeric\n",
    "df_cleaned.iloc[:, 1:] = df_cleaned.iloc[:, 1:].apply(pd.to_numeric, errors='coerce')\n",
    "\n",
    "# Use infer_objects() to avoid FutureWarning\n",
    "df_cleaned = df_cleaned.infer_objects()\n",
    "\n",
    "# Fill remaining missing values with zeros\n",
    "df_filled = df_cleaned.fillna(0)\n",
    "\n",
    "\n",
    "print(df_filled)"
   ]
  },
  {
   "cell_type": "markdown",
   "id": "3672a80f-4cab-4d7b-99ff-8ae69192874c",
   "metadata": {},
   "source": [
    "The iso-3 column is telling us what country we are looking at so we want to keep that column as strings. However every other string in the file should be converted to numerical values. We begin by removing the columns with missing data, then create a function that replaces strings with numerical values. After that we use our function for the whole data set by looping through it and replacing missing values with zeros. "
   ]
  },
  {
   "cell_type": "code",
   "execution_count": null,
   "id": "d8b5294a-9b38-4d04-9906-19dd8ee62d85",
   "metadata": {},
   "outputs": [],
   "source": [
    "from tabulate import tabulate\n",
    "\n",
    "#filtering columns from 2015 and later\n",
    "columns_from_2015 = ['iso-3'] + [col for col in df_filled.columns if col.isdigit() and int(col) >= 2015]\n",
    "data_from_2015 = df_filled[columns_from_2015]\n",
    "\n",
    "# sorting the data from year 2015 in descending order\n",
    "data_sorted_from_2015 = data_from_2015.sort_values(by='2015', ascending=False)\n",
    "\n",
    "# Formating numerical values so tabulate can be used\n",
    "data_formatted_from_2015 = data_sorted_from_2015.copy()\n",
    "for col in columns_from_2015[1:]:\n",
    "    data_formatted_from_2015[col] = data_formatted_from_2015[col].apply(lambda x: f\"{x:.2e}\" if x != 0 else \"nan\")\n",
    "\n",
    "# Convert data to a list of lists and print using tabulate\n",
    "first_10_rows = data_formatted_from_2015.head(10)\n",
    "table_data = first_10_rows.values.tolist()\n",
    "headers = first_10_rows.columns.tolist()\n",
    "\n",
    "# Print the table\n",
    "print(tabulate(table_data, headers=headers, tablefmt=\"grid\"))\n"
   ]
  },
  {
   "cell_type": "code",
   "execution_count": null,
   "id": "fc87563e-38ff-4225-af0b-cb1fd325d4e3",
   "metadata": {},
   "outputs": [],
   "source": []
  }
 ],
 "metadata": {
  "kernelspec": {
   "display_name": "Python 3 (ipykernel)",
   "language": "python",
   "name": "python3"
  },
  "language_info": {
   "codemirror_mode": {
    "name": "ipython",
    "version": 3
   },
   "file_extension": ".py",
   "mimetype": "text/x-python",
   "name": "python",
   "nbconvert_exporter": "python",
   "pygments_lexer": "ipython3",
   "version": "3.13.1"
  }
 },
 "nbformat": 4,
 "nbformat_minor": 5
}
